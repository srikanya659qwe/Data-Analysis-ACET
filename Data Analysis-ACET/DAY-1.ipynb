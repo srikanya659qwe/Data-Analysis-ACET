{
 "cells": [
  {
   "cell_type": "code",
   "execution_count": null,
   "id": "f8da301c",
   "metadata": {},
   "outputs": [],
   "source": []
  },
  {
   "cell_type": "markdown",
   "id": "a4f0b5dc",
   "metadata": {},
   "source": [
    "Literate programming:\n",
    "    - it is a combination of both coding and documention\n",
    "    - cell\n",
    "        - jupyter notebook is a collection cells"
   ]
  },
  {
   "cell_type": "markdown",
   "id": "f3b7fbcb",
   "metadata": {},
   "source": [
    "#### jupyter notebook shortcuts:\n",
    "        - insert a cell for above--->a\n",
    "        - insert a cell for below--->b\n",
    "        - code mode---->y\n",
    "        - documentation mode---->m\n",
    "        - delete a cell--->dd\n",
    "        - Run a cell--->shift+enter,cntrl+enter"
   ]
  },
  {
   "cell_type": "code",
   "execution_count": null,
   "id": "efa3727a",
   "metadata": {},
   "outputs": [],
   "source": [
    "#### Markdown syntax:\n",
    "    - it is used for document creation\n",
    "    - for the heading we are using '#' symbol\n",
    "    "
   ]
  },
  {
   "cell_type": "code",
   "execution_count": 1,
   "id": "845d6c8b",
   "metadata": {},
   "outputs": [],
   "source": [
    "#### Headings"
   ]
  },
  {
   "cell_type": "markdown",
   "id": "2ccb83f3",
   "metadata": {},
   "source": [
    "# CHAPTER1\n",
    "## CHAPTER2\n",
    "### CHAPTER3\n",
    "#### CHAPTER4\n",
    "##### CHAPTER5\n",
    "###### CHAPTER6"
   ]
  },
  {
   "cell_type": "code",
   "execution_count": null,
   "id": "ef6df299",
   "metadata": {},
   "outputs": [],
   "source": [
    "#### Sub headings:"
   ]
  },
  {
   "cell_type": "markdown",
   "id": "e3c2834f",
   "metadata": {},
   "source": [
    "- Python\n",
    "    * Web development\n",
    "    * Data Analysis\n",
    "        * Django\n",
    "        * flask\n",
    "    "
   ]
  },
  {
   "cell_type": "code",
   "execution_count": null,
   "id": "c0c4f81a",
   "metadata": {},
   "outputs": [],
   "source": [
    "#### links"
   ]
  },
  {
   "cell_type": "markdown",
   "id": "ceaf5cba",
   "metadata": {},
   "source": [
    "[google](https://www.google.com/)"
   ]
  },
  {
   "cell_type": "markdown",
   "id": "d5379879",
   "metadata": {},
   "source": [
    "[mail](https://mail.google.com/mail/u/0/#inbox)"
   ]
  },
  {
   "cell_type": "code",
   "execution_count": null,
   "id": "0422ac3c",
   "metadata": {},
   "outputs": [],
   "source": [
    "## image"
   ]
  },
  {
   "cell_type": "markdown",
   "id": "39208ebf",
   "metadata": {},
   "source": [
    "<img src=\"apssdc.jpg\">"
   ]
  },
  {
   "cell_type": "markdown",
   "id": "a5b48c22",
   "metadata": {},
   "source": [
    "#### Package and Module in python:"
   ]
  },
  {
   "cell_type": "markdown",
   "id": "667c2972",
   "metadata": {},
   "source": [
    "#### Package:\n",
    "    - it is a collection of modules\n",
    "    - pip install package name\n",
    "            ex: pip install numpy\n",
    "            \n",
    "            \n",
    "#### Module:\n",
    "    - it is a python file\n",
    "    - it is a collection of functions,classes,variable\n",
    "    - by using \"import\" keyword we can access module in python\n",
    "            - syntax:\n",
    "                import modulename\n",
    "                \n",
    "                \n",
    "                \n",
    "#### types of  modules:\n",
    "    - built-in module\n",
    "    - usedefined module\n",
    "            - The module which is  create by a user"
   ]
  },
  {
   "cell_type": "markdown",
   "id": "05fa8e7a",
   "metadata": {},
   "source": [
    "##### built-in modules:"
   ]
  },
  {
   "cell_type": "code",
   "execution_count": 3,
   "id": "2f8f9f88",
   "metadata": {},
   "outputs": [],
   "source": [
    "import math"
   ]
  },
  {
   "cell_type": "code",
   "execution_count": 10,
   "id": "9cc67f8f",
   "metadata": {
    "collapsed": true
   },
   "outputs": [
    {
     "name": "stdout",
     "output_type": "stream",
     "text": [
      "120\n",
      "3.141592653589793\n",
      "6\n",
      "4\n",
      "5\n",
      "1024.0\n",
      "7.38905609893065\n"
     ]
    }
   ],
   "source": [
    "print(math.factorial(5))\n",
    "print(math.pi)\n",
    "print(math.gcd(6,24))\n",
    "print(math.floor(4.5))\n",
    "print(math.ceil(4.5))\n",
    "print(math.pow(4,5))\n",
    "print(math.exp(2))"
   ]
  },
  {
   "cell_type": "code",
   "execution_count": 13,
   "id": "391645b2",
   "metadata": {},
   "outputs": [
    {
     "name": "stdout",
     "output_type": "stream",
     "text": [
      "0.24740395925452294\n",
      "0.9689124217106447\n",
      "0.25534192122103627\n"
     ]
    }
   ],
   "source": [
    "x=0.25\n",
    "print(math.sin(x))\n",
    "print(math.cos(x))\n",
    "print(math.tan(x))"
   ]
  },
  {
   "cell_type": "code",
   "execution_count": null,
   "id": "16e06cdb",
   "metadata": {},
   "outputs": [],
   "source": [
    "#### sys"
   ]
  },
  {
   "cell_type": "code",
   "execution_count": 14,
   "id": "21dccaac",
   "metadata": {},
   "outputs": [],
   "source": [
    "import sys"
   ]
  },
  {
   "cell_type": "code",
   "execution_count": 18,
   "id": "fc9f70c8",
   "metadata": {},
   "outputs": [
    {
     "name": "stdout",
     "output_type": "stream",
     "text": [
      "['C:\\\\Users\\\\aditya\\\\Desktop\\\\Data Analysis-ACET', 'C:\\\\Users\\\\aditya\\\\anaconda3\\\\python311.zip', 'C:\\\\Users\\\\aditya\\\\anaconda3\\\\DLLs', 'C:\\\\Users\\\\aditya\\\\anaconda3\\\\Lib', 'C:\\\\Users\\\\aditya\\\\anaconda3', '', 'C:\\\\Users\\\\aditya\\\\anaconda3\\\\Lib\\\\site-packages', 'C:\\\\Users\\\\aditya\\\\anaconda3\\\\Lib\\\\site-packages\\\\win32', 'C:\\\\Users\\\\aditya\\\\anaconda3\\\\Lib\\\\site-packages\\\\win32\\\\lib', 'C:\\\\Users\\\\aditya\\\\anaconda3\\\\Lib\\\\site-packages\\\\Pythonwin']\n"
     ]
    }
   ],
   "source": [
    "print(sys.path) # it returns python interpreter location"
   ]
  },
  {
   "cell_type": "markdown",
   "id": "3b300a1a",
   "metadata": {},
   "source": [
    "##### statistics"
   ]
  },
  {
   "cell_type": "code",
   "execution_count": 19,
   "id": "8886d0dd",
   "metadata": {},
   "outputs": [],
   "source": [
    "import statistics"
   ]
  },
  {
   "cell_type": "code",
   "execution_count": 20,
   "id": "2f06f82f",
   "metadata": {},
   "outputs": [
    {
     "name": "stdout",
     "output_type": "stream",
     "text": [
      "[23, 5, 6, 78, 90, 12, 23, 67]\n"
     ]
    }
   ],
   "source": [
    "li=[23,5,6,78,90,12,23,67]\n",
    "print(li)"
   ]
  },
  {
   "cell_type": "code",
   "execution_count": 27,
   "id": "094bbf35",
   "metadata": {
    "collapsed": true
   },
   "outputs": [
    {
     "name": "stdout",
     "output_type": "stream",
     "text": [
      "38\n",
      "23\n",
      "23.0\n",
      "1197.7142857142858\n",
      "34.608008982232505\n"
     ]
    }
   ],
   "source": [
    "print(statistics.mean(li))\n",
    "print(statistics.mode(li))\n",
    "print(statistics.median(li))\n",
    "print(statistics.variance(li))\n",
    "print(statistics.stdev(li))"
   ]
  },
  {
   "cell_type": "code",
   "execution_count": null,
   "id": "4b36967e",
   "metadata": {},
   "outputs": [],
   "source": [
    "### datetime"
   ]
  },
  {
   "cell_type": "code",
   "execution_count": 32,
   "id": "ae5a3c05",
   "metadata": {},
   "outputs": [],
   "source": [
    "import datetime"
   ]
  },
  {
   "cell_type": "code",
   "execution_count": 35,
   "id": "ea5ada96",
   "metadata": {
    "scrolled": true
   },
   "outputs": [
    {
     "name": "stdout",
     "output_type": "stream",
     "text": [
      "2023-11-06\n"
     ]
    }
   ],
   "source": [
    "print(datetime.date.today())"
   ]
  },
  {
   "cell_type": "code",
   "execution_count": 39,
   "id": "8e722fcc",
   "metadata": {},
   "outputs": [
    {
     "name": "stdout",
     "output_type": "stream",
     "text": [
      "6\n",
      "11\n",
      "2023\n"
     ]
    }
   ],
   "source": [
    "x=datetime.date.today()\n",
    "print(x.day)\n",
    "print(x.month)\n",
    "print(x.year)"
   ]
  },
  {
   "cell_type": "code",
   "execution_count": null,
   "id": "42f6fa10",
   "metadata": {},
   "outputs": [],
   "source": []
  }
 ],
 "metadata": {
  "kernelspec": {
   "display_name": "Python 3 (ipykernel)",
   "language": "python",
   "name": "python3"
  },
  "language_info": {
   "codemirror_mode": {
    "name": "ipython",
    "version": 3
   },
   "file_extension": ".py",
   "mimetype": "text/x-python",
   "name": "python",
   "nbconvert_exporter": "python",
   "pygments_lexer": "ipython3",
   "version": "3.11.5"
  }
 },
 "nbformat": 4,
 "nbformat_minor": 5
}
