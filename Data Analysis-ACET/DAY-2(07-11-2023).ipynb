{
 "cells": [
  {
   "cell_type": "markdown",
   "id": "3b4706f4",
   "metadata": {},
   "source": [
    "### Day Objectives:\n",
    "        - Package and module\n",
    "        - File Handling in python\n",
    "        - Data Analysis Introduction"
   ]
  },
  {
   "cell_type": "markdown",
   "id": "058739a2",
   "metadata": {},
   "source": [
    "#### Userdefined module:\n",
    "    - The module which is created by a user\n",
    "    - by using import keyword we can access module in python\n",
    "        - import modulename"
   ]
  },
  {
   "cell_type": "markdown",
   "id": "1d044fa5",
   "metadata": {},
   "source": [
    "### Mobile no validation:\n",
    "        - no starts with 6,7,8,9\n",
    "        - length-->{10}\n",
    "        - range---->[0-9]"
   ]
  },
  {
   "cell_type": "code",
   "execution_count": 1,
   "id": "6409cf21",
   "metadata": {},
   "outputs": [],
   "source": [
    "import module"
   ]
  },
  {
   "cell_type": "code",
   "execution_count": 2,
   "id": "2ecb5edc",
   "metadata": {},
   "outputs": [
    {
     "data": {
      "text/plain": [
       "True"
      ]
     },
     "execution_count": 2,
     "metadata": {},
     "output_type": "execute_result"
    }
   ],
   "source": [
    "module.MobileValid(\"+919492363502\")"
   ]
  },
  {
   "cell_type": "markdown",
   "id": "f2a49039",
   "metadata": {},
   "source": [
    "### File Handling in python:\n",
    "\n",
    "#### File:\n",
    "    - it contains collection of data\n",
    "    - it contains raw information\n",
    "    - file types:\n",
    "            - .py,.txt,.csv,.tsv,.excel,.png,.jpeg....\n",
    "\n",
    "#### File Handling Steps:\n",
    "    - open a file\n",
    "            - by using open()function we can open a file in python\n",
    "            - open (p1,p2)\n",
    "                    - syntax:\n",
    "                            open(filename,mode name)\n",
    "                            \n",
    "            - with open(filename,modename)\n",
    "    - doing an operation\n",
    "            - read operation\n",
    "                    - read()\n",
    "            \n",
    "            - write operation\n",
    "                    - write()\n",
    "    - close a file\n",
    "    \n",
    "            - close()\n",
    "\n",
    "#### File modes:\n",
    "        - read mode---> 'r'--->default mode in file \n",
    "        - write mode--->'w'\n",
    "        - append mode--->'a'\n"
   ]
  },
  {
   "cell_type": "code",
   "execution_count": 5,
   "id": "f0eb3448",
   "metadata": {},
   "outputs": [
    {
     "name": "stdout",
     "output_type": "stream",
     "text": [
      "Haii..Students welcome to Data Analysis Workshop\n",
      "inthis workshop we will see data analysis packages\n"
     ]
    }
   ],
   "source": [
    "#### read opeartion():\n",
    "f=open('file.txt','r')\n",
    "op=f.read()\n",
    "print(op)\n",
    "f.close()"
   ]
  },
  {
   "cell_type": "code",
   "execution_count": 8,
   "id": "7a434f76",
   "metadata": {},
   "outputs": [
    {
     "name": "stdout",
     "output_type": "stream",
     "text": [
      "45\n"
     ]
    }
   ],
   "source": [
    "##### write operation('w')\n",
    "f1=open('file.txt','w')\n",
    "data=f1.write(\"today we will see data analysis introduction\\n\")\n",
    "print(data)\n",
    "f1.close()"
   ]
  },
  {
   "cell_type": "code",
   "execution_count": 9,
   "id": "d2c87187",
   "metadata": {},
   "outputs": [
    {
     "name": "stdout",
     "output_type": "stream",
     "text": [
      "29\n"
     ]
    }
   ],
   "source": [
    "##### Write operation('a')\n",
    "f1=open('file.txt','a')\n",
    "data=f1.write(\"Welcome to DA online session\\n\")\n",
    "print(data)\n",
    "f1.close()"
   ]
  },
  {
   "cell_type": "code",
   "execution_count": null,
   "id": "2d52a176",
   "metadata": {},
   "outputs": [],
   "source": [
    "#### How to create file by using write operation"
   ]
  },
  {
   "cell_type": "code",
   "execution_count": 10,
   "id": "5b7ea7f4",
   "metadata": {},
   "outputs": [
    {
     "name": "stdout",
     "output_type": "stream",
     "text": [
      "6\n"
     ]
    }
   ],
   "source": [
    "f2=open('file2.txt','w')\n",
    "result=f2.write(\"APSSDC\")\n",
    "print(result)\n",
    "f2.close()"
   ]
  },
  {
   "cell_type": "code",
   "execution_count": 11,
   "id": "193f68d1",
   "metadata": {},
   "outputs": [
    {
     "name": "stdout",
     "output_type": "stream",
     "text": [
      "today we will see data analysis introduction\n",
      "Welcome to DA online session\n",
      "\n"
     ]
    }
   ],
   "source": [
    "##### withopen():\n",
    "with open('file.txt','r') as  f3:\n",
    "    r=f3.read()\n",
    "    print(r)"
   ]
  },
  {
   "cell_type": "code",
   "execution_count": 13,
   "id": "f49e7071",
   "metadata": {},
   "outputs": [
    {
     "name": "stdout",
     "output_type": "stream",
     "text": [
      "today we will see data analysis introduction\n",
      "Welcome to DA online session\n",
      "\n"
     ]
    }
   ],
   "source": [
    "def ReadFile(filepath):\n",
    "    with open(filepath,'r') as b:\n",
    "        filedata=b.read()\n",
    "    return filedata\n",
    "\n",
    "filepath='file.txt'\n",
    "print(ReadFile(filepath))"
   ]
  },
  {
   "cell_type": "markdown",
   "id": "8707a91a",
   "metadata": {},
   "source": [
    "#### File methods:\n",
    "        - read()\n",
    "        - readline()\n",
    "        - readlines()\n",
    "        - split()\n",
    "        - tell()\n",
    "        - seek()"
   ]
  },
  {
   "cell_type": "code",
   "execution_count": 15,
   "id": "88ff0510",
   "metadata": {},
   "outputs": [
    {
     "name": "stdout",
     "output_type": "stream",
     "text": [
      "today we w\n"
     ]
    }
   ],
   "source": [
    "#### read(length)\n",
    "with open('file.txt') as s:\n",
    "    data=s.read(10)\n",
    "    print(data)"
   ]
  },
  {
   "cell_type": "markdown",
   "id": "0336a681",
   "metadata": {},
   "source": [
    "#### realine():\n",
    "    - it returns first line from the file "
   ]
  },
  {
   "cell_type": "code",
   "execution_count": 16,
   "id": "05a5b93e",
   "metadata": {},
   "outputs": [
    {
     "name": "stdout",
     "output_type": "stream",
     "text": [
      "today we will see data analysis introduction\n",
      "\n"
     ]
    }
   ],
   "source": [
    "with open('file.txt') as s:\n",
    "    data=s.readline()\n",
    "    print(data)"
   ]
  },
  {
   "cell_type": "markdown",
   "id": "97f87eea",
   "metadata": {},
   "source": [
    "#### readlines():\n",
    "    - it returns total lines from the file"
   ]
  },
  {
   "cell_type": "code",
   "execution_count": 17,
   "id": "32b7204d",
   "metadata": {},
   "outputs": [
    {
     "name": "stdout",
     "output_type": "stream",
     "text": [
      "['today we will see data analysis introduction\\n', 'Welcome to DA online session\\n']\n"
     ]
    }
   ],
   "source": [
    "with open('file.txt') as s:\n",
    "    data=s.readlines()\n",
    "    print(data)"
   ]
  },
  {
   "cell_type": "markdown",
   "id": "57130cb2",
   "metadata": {},
   "source": [
    "#### split():\n",
    "    - it divides entire line into words"
   ]
  },
  {
   "cell_type": "code",
   "execution_count": 20,
   "id": "8f849f29",
   "metadata": {},
   "outputs": [
    {
     "name": "stdout",
     "output_type": "stream",
     "text": [
      "['today', 'we', 'will', 'see', 'data', 'analysis', 'introduction', 'Welcome', 'to', 'DA', 'online', 'session']\n"
     ]
    }
   ],
   "source": [
    "with open('file.txt') as s:\n",
    "    data=s.read()\n",
    "    spl=data.split()\n",
    "    print(spl)\n",
    "   "
   ]
  },
  {
   "cell_type": "markdown",
   "id": "5c738655",
   "metadata": {},
   "source": [
    "#### tell():\n",
    "    - it returns cursor position of the file"
   ]
  },
  {
   "cell_type": "code",
   "execution_count": 24,
   "id": "5796e588",
   "metadata": {},
   "outputs": [
    {
     "name": "stdout",
     "output_type": "stream",
     "text": [
      "76\n"
     ]
    }
   ],
   "source": [
    "with open('file.txt') as s:\n",
    "    s.read()\n",
    "    print(s.tell())"
   ]
  },
  {
   "cell_type": "markdown",
   "id": "ad6b6e29",
   "metadata": {},
   "source": [
    "##### seek():\n",
    "    - it change cursor position from the file one position to another position"
   ]
  },
  {
   "cell_type": "code",
   "execution_count": 32,
   "id": "ed3321eb",
   "metadata": {},
   "outputs": [
    {
     "name": "stdout",
     "output_type": "stream",
     "text": [
      "today\n",
      "20\n",
      "20\n"
     ]
    }
   ],
   "source": [
    "f4=open('file.txt','r')\n",
    "res=f4.read(5)\n",
    "print(res)\n",
    "res1=f4.seek(20)\n",
    "print(res1)\n",
    "print(f4.tell())\n",
    "f4.close()"
   ]
  },
  {
   "cell_type": "markdown",
   "id": "c4a5f23a",
   "metadata": {},
   "source": [
    "#### word count\n",
    "#### line count\n",
    "#### character count"
   ]
  },
  {
   "cell_type": "code",
   "execution_count": 33,
   "id": "2868c962",
   "metadata": {},
   "outputs": [
    {
     "name": "stdout",
     "output_type": "stream",
     "text": [
      "2\n"
     ]
    }
   ],
   "source": [
    "### line count():\n",
    "with open('file.txt') as s:\n",
    "    data=s.readlines()\n",
    "    print(len(data))"
   ]
  },
  {
   "cell_type": "code",
   "execution_count": 34,
   "id": "55aeb9f0",
   "metadata": {},
   "outputs": [
    {
     "name": "stdout",
     "output_type": "stream",
     "text": [
      "74\n"
     ]
    }
   ],
   "source": [
    "#### charcter count():\n",
    "with open('file.txt') as s:\n",
    "    data=s.read()\n",
    "    count=0\n",
    "    for i in data:\n",
    "        count=count+1\n",
    "    print(count)"
   ]
  },
  {
   "cell_type": "code",
   "execution_count": null,
   "id": "bcc0a21b",
   "metadata": {},
   "outputs": [],
   "source": []
  }
 ],
 "metadata": {
  "kernelspec": {
   "display_name": "Python 3 (ipykernel)",
   "language": "python",
   "name": "python3"
  },
  "language_info": {
   "codemirror_mode": {
    "name": "ipython",
    "version": 3
   },
   "file_extension": ".py",
   "mimetype": "text/x-python",
   "name": "python",
   "nbconvert_exporter": "python",
   "pygments_lexer": "ipython3",
   "version": "3.11.5"
  }
 },
 "nbformat": 4,
 "nbformat_minor": 5
}
