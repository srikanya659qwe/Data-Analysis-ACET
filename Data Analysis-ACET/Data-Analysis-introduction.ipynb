{
 "cells": [
  {
   "cell_type": "markdown",
   "id": "4021f4d0",
   "metadata": {},
   "source": [
    "#### Data Analysis:\n",
    "\n",
    "#### Data:\n",
    "    - it is a collection of files\n",
    "    - it contains raw information\n",
    "\n",
    "#### Types of Data:\n",
    "    - Structured Data\n",
    "            - it is a tabualr format(columns/rows)\n",
    "    - Un Structured Data\n",
    "            - it does not have proper structure\n",
    "                    ex: photos,videos,ppts,logfiles,voices,pdf files...\n",
    "    - Semi Structured Data\n",
    "            - .html files,xml files,json files\n",
    "\n",
    "#### Types of Data In Statistics\n",
    "    - Numerical Data:\n",
    "            - it is a number format\n",
    "            - made of numbers\n",
    "                    ex: age,weight,no of childerns....\n",
    "                    \n",
    "                 - continuous Data\n",
    "                         - infinite oprtions\n",
    "                                 ex: age,weight,blood type\n",
    "                 - Discreate Data\n",
    "                         - finite opetions\n",
    "                                 ex: shoesize,no of childrens\n",
    "    - categorical Data\n",
    "            - it is string format\n",
    "            - made of words\n",
    "                    ec: eye color,genders,blood type.....\n",
    "                    \n",
    "                   - ordinal Data\n",
    "                           - data has follow proper hierarchy\n",
    "                                   ex: surveys,ratings....\n",
    "                   - Nominal Data\n",
    "                           - data has not follow hierarchy\n",
    "                                   ex:eyecolor,blood type....\n",
    "\n",
    "\n",
    "\n",
    "\n",
    "\n",
    "#### python librarires for Data Analysis:\n",
    "\n",
    "            - numpy\n",
    "                    - numpy means numerical python\n",
    "                    - it is used to craete multi dimensional arrays in python\n",
    "            - pandas\n",
    "                    - by using this we create tables to the data\n",
    "                    - pandas is the most popular python library in data analysis,it provides highly optimized performance with backend sources\n",
    "                    \n",
    "                    \n",
    "            - matplot lib\n",
    "                    - by using library we can create graphs,plot,charts in python\n",
    "                            ex: liner,bar,pie,histogram,box,area....\n",
    "            - seaborn\n",
    "                    - by using library we can design visualization on pandas data sets.\n",
    "\n"
   ]
  },
  {
   "cell_type": "markdown",
   "id": "0216afef",
   "metadata": {},
   "source": [
    "##### Numpy:\n",
    "    - Numpy stands for numerical python\n",
    "    - it is used for scientific computation ,it provides an efficient interface to store and opearte\n",
    "    on data buffers.\n",
    "    - by using this library we can create multi dimensional arrays in python\n",
    "    \n",
    "    \n",
    "#### Library installation\n",
    "    - pip install package name\n",
    "        ex: pip install numpy\n",
    "        \n",
    "        \n",
    "##### Numpy Arrays:\n",
    "    - An array is a collection of homogeneous data which can represented as a 32 dimensions in numpy.\n",
    "        - syntax:\n",
    "        \n",
    "                - numpy.array(data)"
   ]
  },
  {
   "cell_type": "code",
   "execution_count": 2,
   "id": "57dbe200",
   "metadata": {
    "scrolled": true
   },
   "outputs": [
    {
     "name": "stdout",
     "output_type": "stream",
     "text": [
      "Requirement already satisfied: numpy in c:\\users\\aditya\\anaconda3\\lib\\site-packages (1.24.3)\n",
      "Note: you may need to restart the kernel to use updated packages.\n"
     ]
    }
   ],
   "source": [
    "pip install numpy"
   ]
  },
  {
   "cell_type": "code",
   "execution_count": 4,
   "id": "8a200b4c",
   "metadata": {},
   "outputs": [],
   "source": [
    "#### importing the librarry\n",
    "import numpy as np"
   ]
  },
  {
   "cell_type": "markdown",
   "id": "844e342f",
   "metadata": {},
   "source": [
    "#### How to create arrays in numpy?\n",
    "        -np.array(data)"
   ]
  },
  {
   "cell_type": "code",
   "execution_count": 5,
   "id": "4f7ec71f",
   "metadata": {},
   "outputs": [
    {
     "data": {
      "text/plain": [
       "array([1, 2, 3, 4, 5])"
      ]
     },
     "execution_count": 5,
     "metadata": {},
     "output_type": "execute_result"
    }
   ],
   "source": [
    "a=np.array([1,2,3,4,5])\n",
    "a"
   ]
  },
  {
   "cell_type": "code",
   "execution_count": 6,
   "id": "1bbf7660",
   "metadata": {},
   "outputs": [
    {
     "data": {
      "text/plain": [
       "numpy.ndarray"
      ]
     },
     "execution_count": 6,
     "metadata": {},
     "output_type": "execute_result"
    }
   ],
   "source": [
    "type(a)"
   ]
  },
  {
   "cell_type": "markdown",
   "id": "31932e5e",
   "metadata": {},
   "source": [
    "#### How to access array elements:\n",
    "        - index\n",
    "                - index position starts with 0\n",
    "                - synatx:\n",
    "                        array_variable[index position]\n",
    "        - slicing\n",
    "                - if you want to access more than one elemenet at a time from the array\n",
    "                - syntax:\n",
    "                        array_variable[start_index:end+index+1:step value]"
   ]
  },
  {
   "cell_type": "code",
   "execution_count": 21,
   "id": "9d967c8e",
   "metadata": {
    "collapsed": true
   },
   "outputs": [
    {
     "name": "stdout",
     "output_type": "stream",
     "text": [
      "[1 2 3 4 5]\n",
      "5\n",
      "[1 2 3 4 5]\n",
      "[1 2 3 4 5]\n",
      "[1 2 3]\n",
      "[1 2 3]\n",
      "[3 4 5]\n",
      "[3 4 5]\n",
      "[5 4 3 2 1]\n",
      "[1 3 5]\n",
      "[1 3 5]\n",
      "[5 3 1]\n"
     ]
    }
   ],
   "source": [
    "print(a)\n",
    "print(a[4])\n",
    "print(a[0:5])\n",
    "print(a[:])\n",
    "print(a[0:3])\n",
    "print(a[:3])\n",
    "print(a[2:5])\n",
    "print(a[2:])\n",
    "print(a[::-1])\n",
    "print(a[0:5:2])\n",
    "print(a[::2])\n",
    "print(a[::-2])"
   ]
  },
  {
   "cell_type": "markdown",
   "id": "8966fdc5",
   "metadata": {},
   "source": [
    "#### Array Methods:\n",
    "        - ndim()\n",
    "            - it returns dimensions of an array\n",
    "        - dtype()\n",
    "            - it returns data type of an array\n",
    "        - shape()\n",
    "            - it returns no of rows and no of columns from an array\n",
    "        - size()\n",
    "            - it returns total elements size  of an array\n",
    "        - nbytes()\n",
    "            - it returns no of bytes of an array\n",
    "        - itemsize()\n",
    "            - it returns each element size in bytes format"
   ]
  },
  {
   "cell_type": "code",
   "execution_count": 28,
   "id": "3415e4e7",
   "metadata": {},
   "outputs": [
    {
     "name": "stdout",
     "output_type": "stream",
     "text": [
      "[1 2 3 4 5]\n",
      "1\n",
      "int32\n",
      "(5,)\n",
      "5\n",
      "4\n",
      "20\n"
     ]
    }
   ],
   "source": [
    "print(a)\n",
    "print(a.ndim)\n",
    "print(a.dtype)\n",
    "print(a.shape)\n",
    "print(a.size)\n",
    "print(a.itemsize)\n",
    "print(a.nbytes)"
   ]
  },
  {
   "cell_type": "markdown",
   "id": "304f0de2",
   "metadata": {},
   "source": [
    "#### arange()--->array range\n",
    "    - synatx:\n",
    "            np.arange(start range,end range +1,step value)"
   ]
  },
  {
   "cell_type": "code",
   "execution_count": 29,
   "id": "e97d27d4",
   "metadata": {
    "collapsed": true
   },
   "outputs": [
    {
     "data": {
      "text/plain": [
       "array([ 1,  2,  3,  4,  5,  6,  7,  8,  9, 10])"
      ]
     },
     "execution_count": 29,
     "metadata": {},
     "output_type": "execute_result"
    }
   ],
   "source": [
    "a1=np.arange(1,11)\n",
    "a1"
   ]
  },
  {
   "cell_type": "code",
   "execution_count": 31,
   "id": "aeccfc39",
   "metadata": {
    "collapsed": true
   },
   "outputs": [
    {
     "data": {
      "text/plain": [
       "array([ 1,  3,  5,  7,  9, 11, 13, 15, 17, 19, 21, 23, 25, 27, 29])"
      ]
     },
     "execution_count": 31,
     "metadata": {},
     "output_type": "execute_result"
    }
   ],
   "source": [
    "a1=np.arange(1,31,2)\n",
    "a1"
   ]
  },
  {
   "cell_type": "code",
   "execution_count": 32,
   "id": "ae2febff",
   "metadata": {
    "collapsed": true
   },
   "outputs": [
    {
     "data": {
      "text/plain": [
       "array([ 0,  2,  4,  6,  8, 10, 12, 14, 16, 18, 20, 22, 24, 26, 28, 30, 32,\n",
       "       34, 36, 38, 40, 42, 44, 46, 48, 50, 52, 54, 56, 58, 60, 62, 64, 66,\n",
       "       68, 70, 72, 74, 76, 78, 80, 82, 84, 86, 88, 90, 92, 94, 96, 98])"
      ]
     },
     "execution_count": 32,
     "metadata": {},
     "output_type": "execute_result"
    }
   ],
   "source": [
    "a2=np.arange(0,100,2)\n",
    "a2"
   ]
  },
  {
   "cell_type": "code",
   "execution_count": 33,
   "id": "75964022",
   "metadata": {
    "collapsed": true
   },
   "outputs": [
    {
     "data": {
      "text/plain": [
       "array([ 1,  3,  5,  7,  9, 11, 13, 15, 17, 19, 21, 23, 25, 27, 29, 31, 33,\n",
       "       35, 37, 39, 41, 43, 45, 47, 49, 51, 53, 55, 57, 59, 61, 63, 65, 67,\n",
       "       69, 71, 73, 75, 77, 79, 81, 83, 85, 87, 89, 91, 93, 95, 97, 99])"
      ]
     },
     "execution_count": 33,
     "metadata": {},
     "output_type": "execute_result"
    }
   ],
   "source": [
    "a3=np.arange(1,100,2)\n",
    "a3"
   ]
  },
  {
   "cell_type": "markdown",
   "id": "89c4c233",
   "metadata": {},
   "source": [
    "##### append()"
   ]
  },
  {
   "cell_type": "code",
   "execution_count": 34,
   "id": "ee24d8ad",
   "metadata": {},
   "outputs": [
    {
     "name": "stdout",
     "output_type": "stream",
     "text": [
      "[1 2 3 4 5]\n"
     ]
    }
   ],
   "source": [
    "print(a)"
   ]
  },
  {
   "cell_type": "code",
   "execution_count": 36,
   "id": "b13901f8",
   "metadata": {},
   "outputs": [
    {
     "data": {
      "text/plain": [
       "array([ 1,  2,  3,  4,  5, 10])"
      ]
     },
     "execution_count": 36,
     "metadata": {},
     "output_type": "execute_result"
    }
   ],
   "source": [
    "a4=np.append(a,10)\n",
    "a4"
   ]
  },
  {
   "cell_type": "code",
   "execution_count": 37,
   "id": "11543c26",
   "metadata": {},
   "outputs": [
    {
     "data": {
      "text/plain": [
       "array([ 1,  2,  3,  4,  5, 90, 78, 56])"
      ]
     },
     "execution_count": 37,
     "metadata": {},
     "output_type": "execute_result"
    }
   ],
   "source": [
    "a5=np.append(a,[90,78,56])\n",
    "a5"
   ]
  },
  {
   "cell_type": "markdown",
   "id": "368bcf05",
   "metadata": {},
   "source": [
    "#### ones():\n",
    "\n",
    "    - np.ones(size)\n"
   ]
  },
  {
   "cell_type": "code",
   "execution_count": 38,
   "id": "a725d467",
   "metadata": {},
   "outputs": [
    {
     "data": {
      "text/plain": [
       "array([1., 1., 1., 1., 1., 1., 1., 1., 1., 1.])"
      ]
     },
     "execution_count": 38,
     "metadata": {},
     "output_type": "execute_result"
    }
   ],
   "source": [
    "np.ones(10)"
   ]
  },
  {
   "cell_type": "code",
   "execution_count": 39,
   "id": "7b855c94",
   "metadata": {},
   "outputs": [
    {
     "data": {
      "text/plain": [
       "array([1, 1, 1, 1, 1, 1, 1, 1, 1, 1])"
      ]
     },
     "execution_count": 39,
     "metadata": {},
     "output_type": "execute_result"
    }
   ],
   "source": [
    "np.ones(10,dtype=int)"
   ]
  },
  {
   "cell_type": "code",
   "execution_count": 41,
   "id": "d96373a7",
   "metadata": {},
   "outputs": [
    {
     "data": {
      "text/plain": [
       "array([[1, 1, 1],\n",
       "       [1, 1, 1]])"
      ]
     },
     "execution_count": 41,
     "metadata": {},
     "output_type": "execute_result"
    }
   ],
   "source": [
    "np.ones((2,3),dtype=int)"
   ]
  },
  {
   "cell_type": "markdown",
   "id": "eb421712",
   "metadata": {},
   "source": [
    "#### zeros()\n",
    "    - np.zeros(size)"
   ]
  },
  {
   "cell_type": "code",
   "execution_count": 42,
   "id": "d7596092",
   "metadata": {},
   "outputs": [
    {
     "data": {
      "text/plain": [
       "array([0., 0., 0., 0., 0., 0., 0., 0., 0., 0.])"
      ]
     },
     "execution_count": 42,
     "metadata": {},
     "output_type": "execute_result"
    }
   ],
   "source": [
    "np.zeros(10)"
   ]
  },
  {
   "cell_type": "code",
   "execution_count": 43,
   "id": "ffed7554",
   "metadata": {},
   "outputs": [
    {
     "data": {
      "text/plain": [
       "array([0, 0, 0, 0, 0, 0, 0, 0, 0, 0])"
      ]
     },
     "execution_count": 43,
     "metadata": {},
     "output_type": "execute_result"
    }
   ],
   "source": [
    "np.zeros(10,dtype=int)"
   ]
  },
  {
   "cell_type": "code",
   "execution_count": 44,
   "id": "4678474a",
   "metadata": {},
   "outputs": [
    {
     "data": {
      "text/plain": [
       "array([[0, 0, 0, 0, 0],\n",
       "       [0, 0, 0, 0, 0],\n",
       "       [0, 0, 0, 0, 0],\n",
       "       [0, 0, 0, 0, 0]])"
      ]
     },
     "execution_count": 44,
     "metadata": {},
     "output_type": "execute_result"
    }
   ],
   "source": [
    "np.zeros((4,5),dtype=int)"
   ]
  },
  {
   "cell_type": "markdown",
   "id": "961dd6e3",
   "metadata": {},
   "source": [
    "#### full():\n",
    "    np.full(size)"
   ]
  },
  {
   "cell_type": "code",
   "execution_count": 46,
   "id": "e2059e5c",
   "metadata": {},
   "outputs": [
    {
     "data": {
      "text/plain": [
       "array(['numpy', 'numpy', 'numpy', 'numpy', 'numpy'], dtype='<U5')"
      ]
     },
     "execution_count": 46,
     "metadata": {},
     "output_type": "execute_result"
    }
   ],
   "source": [
    "np.full(5,\"numpy\")"
   ]
  },
  {
   "cell_type": "code",
   "execution_count": 49,
   "id": "519e225a",
   "metadata": {},
   "outputs": [
    {
     "data": {
      "text/plain": [
       "array([10, 10, 10, 10, 10])"
      ]
     },
     "execution_count": 49,
     "metadata": {},
     "output_type": "execute_result"
    }
   ],
   "source": [
    "np.full(5,10)"
   ]
  },
  {
   "cell_type": "code",
   "execution_count": 50,
   "id": "2708f59b",
   "metadata": {},
   "outputs": [
    {
     "data": {
      "text/plain": [
       "array([[45, 45, 45],\n",
       "       [45, 45, 45]])"
      ]
     },
     "execution_count": 50,
     "metadata": {},
     "output_type": "execute_result"
    }
   ],
   "source": [
    "np.full((2,3),45)"
   ]
  },
  {
   "cell_type": "code",
   "execution_count": 51,
   "id": "f8525393",
   "metadata": {
    "collapsed": true
   },
   "outputs": [
    {
     "data": {
      "text/plain": [
       "array([['python', 'python', 'python', 'python', 'python'],\n",
       "       ['python', 'python', 'python', 'python', 'python'],\n",
       "       ['python', 'python', 'python', 'python', 'python'],\n",
       "       ['python', 'python', 'python', 'python', 'python']], dtype='<U6')"
      ]
     },
     "execution_count": 51,
     "metadata": {},
     "output_type": "execute_result"
    }
   ],
   "source": [
    "np.full((4,5),\"python\")"
   ]
  },
  {
   "cell_type": "markdown",
   "id": "117bca51",
   "metadata": {},
   "source": [
    "#### np.linspace(start range,end range,no partitions)"
   ]
  },
  {
   "cell_type": "code",
   "execution_count": 52,
   "id": "51e1a1cb",
   "metadata": {},
   "outputs": [
    {
     "data": {
      "text/plain": [
       "array([ 1.  ,  5.75, 10.5 , 15.25, 20.  ])"
      ]
     },
     "execution_count": 52,
     "metadata": {},
     "output_type": "execute_result"
    }
   ],
   "source": [
    "np.linspace(1,20,5)"
   ]
  },
  {
   "cell_type": "code",
   "execution_count": 53,
   "id": "746d18ed",
   "metadata": {},
   "outputs": [
    {
     "data": {
      "text/plain": [
       "array([ 1. ,  5.5, 10. ])"
      ]
     },
     "execution_count": 53,
     "metadata": {},
     "output_type": "execute_result"
    }
   ],
   "source": [
    "np.linspace(1,10,3)"
   ]
  },
  {
   "cell_type": "markdown",
   "id": "50d09b87",
   "metadata": {},
   "source": [
    "#### 2-d Array:\n",
    "    - it is a combination of more than one 1-d array\n",
    "    - syntax:\n",
    "            np.array([[e1,e2,e3,e4],[e1,e2,e3,e4]])"
   ]
  },
  {
   "cell_type": "code",
   "execution_count": 54,
   "id": "bef7be9d",
   "metadata": {},
   "outputs": [
    {
     "name": "stdout",
     "output_type": "stream",
     "text": [
      "[[1 2 3 4]\n",
      " [5 6 7 8]]\n"
     ]
    }
   ],
   "source": [
    "b=np.array([[1,2,3,4],[5,6,7,8]])\n",
    "print(b)"
   ]
  },
  {
   "cell_type": "code",
   "execution_count": 61,
   "id": "8e51aebd",
   "metadata": {
    "collapsed": true
   },
   "outputs": [
    {
     "name": "stdout",
     "output_type": "stream",
     "text": [
      "2\n",
      "(2, 4)\n",
      "8\n",
      "int32\n",
      "4\n",
      "32\n"
     ]
    }
   ],
   "source": [
    "print(b.ndim)\n",
    "print(b.shape)\n",
    "print(b.size)\n",
    "print(b.dtype)\n",
    "print(b.itemsize)\n",
    "print(b.nbytes)"
   ]
  },
  {
   "cell_type": "markdown",
   "id": "4c4d0dd6",
   "metadata": {},
   "source": [
    "#### How to access elements from 2-d array"
   ]
  },
  {
   "cell_type": "code",
   "execution_count": 62,
   "id": "293f7352",
   "metadata": {},
   "outputs": [
    {
     "name": "stdout",
     "output_type": "stream",
     "text": [
      "[[1 2 3 4]\n",
      " [5 6 7 8]]\n"
     ]
    }
   ],
   "source": [
    "print(b)"
   ]
  },
  {
   "cell_type": "code",
   "execution_count": 63,
   "id": "9d6eacb6",
   "metadata": {},
   "outputs": [
    {
     "data": {
      "text/plain": [
       "array([1, 2, 3, 4])"
      ]
     },
     "execution_count": 63,
     "metadata": {},
     "output_type": "execute_result"
    }
   ],
   "source": [
    "b[0]          # row index"
   ]
  },
  {
   "cell_type": "code",
   "execution_count": 64,
   "id": "8fb254f8",
   "metadata": {},
   "outputs": [
    {
     "data": {
      "text/plain": [
       "array([5, 6, 7, 8])"
      ]
     },
     "execution_count": 64,
     "metadata": {},
     "output_type": "execute_result"
    }
   ],
   "source": [
    "b[1]"
   ]
  },
  {
   "cell_type": "code",
   "execution_count": 66,
   "id": "7cff3008",
   "metadata": {},
   "outputs": [
    {
     "data": {
      "text/plain": [
       "1"
      ]
     },
     "execution_count": 66,
     "metadata": {},
     "output_type": "execute_result"
    }
   ],
   "source": [
    "b[0,0]   # Row index,element index"
   ]
  },
  {
   "cell_type": "code",
   "execution_count": 68,
   "id": "fb83500f",
   "metadata": {},
   "outputs": [
    {
     "data": {
      "text/plain": [
       "8"
      ]
     },
     "execution_count": 68,
     "metadata": {},
     "output_type": "execute_result"
    }
   ],
   "source": [
    "b[1,3]"
   ]
  },
  {
   "cell_type": "code",
   "execution_count": 69,
   "id": "f69b1db9",
   "metadata": {},
   "outputs": [
    {
     "data": {
      "text/plain": [
       "array([[1, 2, 3, 4],\n",
       "       [5, 6, 7, 8]])"
      ]
     },
     "execution_count": 69,
     "metadata": {},
     "output_type": "execute_result"
    }
   ],
   "source": [
    "b"
   ]
  },
  {
   "cell_type": "code",
   "execution_count": null,
   "id": "5d1dfea0",
   "metadata": {},
   "outputs": [],
   "source": [
    "[4,8]"
   ]
  },
  {
   "cell_type": "code",
   "execution_count": 71,
   "id": "3fbc1f02",
   "metadata": {
    "collapsed": true
   },
   "outputs": [
    {
     "data": {
      "text/plain": [
       "array([4, 8])"
      ]
     },
     "execution_count": 71,
     "metadata": {},
     "output_type": "execute_result"
    }
   ],
   "source": [
    "b[:,3]"
   ]
  },
  {
   "cell_type": "code",
   "execution_count": 72,
   "id": "1437520f",
   "metadata": {
    "collapsed": true
   },
   "outputs": [
    {
     "data": {
      "text/plain": [
       "array([4, 8])"
      ]
     },
     "execution_count": 72,
     "metadata": {},
     "output_type": "execute_result"
    }
   ],
   "source": [
    "b[:,-1]"
   ]
  },
  {
   "cell_type": "code",
   "execution_count": null,
   "id": "608af0d1",
   "metadata": {},
   "outputs": [],
   "source": [
    "[3 4\n",
    " 7 8]"
   ]
  },
  {
   "cell_type": "code",
   "execution_count": 74,
   "id": "70a8a103",
   "metadata": {
    "collapsed": true
   },
   "outputs": [
    {
     "data": {
      "text/plain": [
       "array([[3, 4],\n",
       "       [7, 8]])"
      ]
     },
     "execution_count": 74,
     "metadata": {},
     "output_type": "execute_result"
    }
   ],
   "source": [
    "b[:,2:4]"
   ]
  },
  {
   "cell_type": "code",
   "execution_count": 76,
   "id": "02325736",
   "metadata": {
    "collapsed": true
   },
   "outputs": [
    {
     "data": {
      "text/plain": [
       "array([[1, 3],\n",
       "       [5, 7]])"
      ]
     },
     "execution_count": 76,
     "metadata": {},
     "output_type": "execute_result"
    }
   ],
   "source": [
    "b[:,::2]"
   ]
  },
  {
   "cell_type": "code",
   "execution_count": null,
   "id": "9a7e022e",
   "metadata": {},
   "outputs": [],
   "source": []
  }
 ],
 "metadata": {
  "kernelspec": {
   "display_name": "Python 3 (ipykernel)",
   "language": "python",
   "name": "python3"
  },
  "language_info": {
   "codemirror_mode": {
    "name": "ipython",
    "version": 3
   },
   "file_extension": ".py",
   "mimetype": "text/x-python",
   "name": "python",
   "nbconvert_exporter": "python",
   "pygments_lexer": "ipython3",
   "version": "3.11.5"
  }
 },
 "nbformat": 4,
 "nbformat_minor": 5
}
